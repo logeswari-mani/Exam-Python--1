{
 "cells": [
  {
   "cell_type": "code",
   "execution_count": null,
   "id": "1d6036b1",
   "metadata": {},
   "outputs": [],
   "source": [
    "#Question-1\n",
    "positive=['good','awesome0','best','nice']\n",
    "negative=['worst','awful']\n",
    "comments=['He is good boy','Food is the worst here','She is the best','This pizza tastes awful','These burger are really nice']\n",
    "if(comments==postive):\n",
    "    {\n",
    "        print(\"positive\")\n",
    "    }\n",
    "else:\n",
    "    {\n",
    "        print(\"negative\")\n",
    "    }\n",
    "\n",
    "    "
   ]
  },
  {
   "cell_type": "code",
   "execution_count": 2,
   "id": "30d5d3b1",
   "metadata": {},
   "outputs": [
    {
     "name": "stdout",
     "output_type": "stream",
     "text": [
      "2\n",
      "4\n",
      "10\n",
      "11.414213562373096\n"
     ]
    }
   ],
   "source": [
    "#Question-2\n",
    "import numpy as np\n",
    "import math\n",
    "dict={'square':lambda x:x*2,'cube':lambda x:x*3,'Squareroot':lambda x:np.sqrt(x)}\n",
    "num=int(input())\n",
    "result=0\n",
    "for fun in dict:\n",
    "    result+=dict[fun](num)\n",
    "    print(result)"
   ]
  },
  {
   "cell_type": "code",
   "execution_count": 4,
   "id": "01248d8b",
   "metadata": {},
   "outputs": [
    {
     "name": "stdout",
     "output_type": "stream",
     "text": [
      "[9, 14, 21, 29, 34]\n"
     ]
    }
   ],
   "source": [
    "#Question-8\n",
    "data=[9,5,7,8,5]\n",
    "new_data=[]\n",
    "j=0\n",
    "for i in range(0,len(data)):\n",
    "    j+=list[i]\n",
    "    new_data.append(j)\n",
    "print(new_data)"
   ]
  },
  {
   "cell_type": "code",
   "execution_count": 8,
   "id": "edb1012c",
   "metadata": {},
   "outputs": [
    {
     "ename": "TypeError",
     "evalue": "'dict' object is not callable",
     "output_type": "error",
     "traceback": [
      "\u001b[1;31m---------------------------------------------------------------------------\u001b[0m",
      "\u001b[1;31mTypeError\u001b[0m                                 Traceback (most recent call last)",
      "\u001b[1;32mC:\\Users\\VEDHAV~1\\AppData\\Local\\Temp/ipykernel_3816/2621194038.py\u001b[0m in \u001b[0;36m<module>\u001b[1;34m\u001b[0m\n\u001b[0;32m      3\u001b[0m \u001b[0mGMoon\u001b[0m \u001b[1;33m=\u001b[0m \u001b[1;36m1.622\u001b[0m\u001b[1;33m\u001b[0m\u001b[1;33m\u001b[0m\u001b[0m\n\u001b[0;32m      4\u001b[0m \u001b[0mGEarth\u001b[0m \u001b[1;33m=\u001b[0m \u001b[1;36m9.81\u001b[0m\u001b[1;33m\u001b[0m\u001b[1;33m\u001b[0m\u001b[0m\n\u001b[1;32m----> 5\u001b[1;33m \u001b[0mdict\u001b[0m\u001b[1;33m(\u001b[0m\u001b[0mmap\u001b[0m\u001b[1;33m(\u001b[0m\u001b[1;32mlambda\u001b[0m \u001b[0mx\u001b[0m \u001b[1;33m:\u001b[0m \u001b[1;33m(\u001b[0m\u001b[0mx\u001b[0m\u001b[1;33m,\u001b[0m \u001b[0mround\u001b[0m\u001b[1;33m(\u001b[0m\u001b[1;33m(\u001b[0m\u001b[0mWeightOnEarth\u001b[0m\u001b[1;33m[\u001b[0m\u001b[0mx\u001b[0m\u001b[1;33m]\u001b[0m\u001b[1;33m/\u001b[0m\u001b[0mGEarth\u001b[0m\u001b[1;33m)\u001b[0m\u001b[1;33m*\u001b[0m\u001b[0mGMoon\u001b[0m\u001b[1;33m,\u001b[0m \u001b[1;36m2\u001b[0m\u001b[1;33m)\u001b[0m\u001b[1;33m)\u001b[0m\u001b[1;33m,\u001b[0m \u001b[0mWeightOnEarth\u001b[0m\u001b[1;33m)\u001b[0m\u001b[1;33m)\u001b[0m\u001b[1;33m\u001b[0m\u001b[1;33m\u001b[0m\u001b[0m\n\u001b[0m",
      "\u001b[1;31mTypeError\u001b[0m: 'dict' object is not callable"
     ]
    }
   ],
   "source": [
    "#Question-5\n",
    "WeightOnEarth = {'John':45, 'Shelly':65, 'Marry':35}\n",
    "GMoon = 1.622\n",
    "GEarth = 9.81\n",
    "dict(map(lambda x : (x, round((WeightOnEarth[x]/GEarth)*GMoon, 2)), WeightOnEarth))"
   ]
  },
  {
   "cell_type": "code",
   "execution_count": 5,
   "id": "2a3cf82e",
   "metadata": {},
   "outputs": [
    {
     "ename": "TypeError",
     "evalue": "'list' object is not callable",
     "output_type": "error",
     "traceback": [
      "\u001b[1;31m---------------------------------------------------------------------------\u001b[0m",
      "\u001b[1;31mTypeError\u001b[0m                                 Traceback (most recent call last)",
      "\u001b[1;32mC:\\Users\\VEDHAV~1\\AppData\\Local\\Temp/ipykernel_3816/1988309924.py\u001b[0m in \u001b[0;36m<module>\u001b[1;34m\u001b[0m\n\u001b[0;32m      1\u001b[0m \u001b[1;31m#Question-9\u001b[0m\u001b[1;33m\u001b[0m\u001b[1;33m\u001b[0m\u001b[0m\n\u001b[0;32m      2\u001b[0m \u001b[0mIsbool\u001b[0m \u001b[1;33m=\u001b[0m \u001b[0mmap\u001b[0m\u001b[1;33m(\u001b[0m\u001b[1;32mlambda\u001b[0m \u001b[0mx\u001b[0m\u001b[1;33m:\u001b[0m\u001b[0mx\u001b[0m\u001b[1;33m.\u001b[0m\u001b[0mupper\u001b[0m\u001b[1;33m(\u001b[0m\u001b[1;33m)\u001b[0m\u001b[1;33m,\u001b[0m \u001b[1;33m[\u001b[0m\u001b[1;34m'True'\u001b[0m\u001b[1;33m,\u001b[0m \u001b[1;34m'FALse'\u001b[0m\u001b[1;33m,\u001b[0m \u001b[1;34m'tRUe'\u001b[0m \u001b[1;33m,\u001b[0m \u001b[1;34m'tRue'\u001b[0m \u001b[1;33m,\u001b[0m \u001b[1;34m'False'\u001b[0m \u001b[1;33m,\u001b[0m \u001b[1;34m'faLse'\u001b[0m\u001b[1;33m]\u001b[0m\u001b[1;33m)\u001b[0m\u001b[1;33m\u001b[0m\u001b[1;33m\u001b[0m\u001b[0m\n\u001b[1;32m----> 3\u001b[1;33m \u001b[0moutput\u001b[0m \u001b[1;33m=\u001b[0m \u001b[0mlist\u001b[0m\u001b[1;33m(\u001b[0m\u001b[0mIsbool\u001b[0m\u001b[1;33m)\u001b[0m\u001b[1;33m\u001b[0m\u001b[1;33m\u001b[0m\u001b[0m\n\u001b[0m\u001b[0;32m      4\u001b[0m \u001b[0mprint\u001b[0m\u001b[1;33m(\u001b[0m\u001b[0moutput\u001b[0m\u001b[1;33m)\u001b[0m\u001b[1;33m\u001b[0m\u001b[1;33m\u001b[0m\u001b[0m\n",
      "\u001b[1;31mTypeError\u001b[0m: 'list' object is not callable"
     ]
    }
   ],
   "source": [
    "#Question-9\n",
    "Isbool = map(lambda x:x.upper(), ['True', 'FALse', 'tRUe' , 'tRue' , 'False' , 'faLse'])\n",
    "output = list(Isbool)\n",
    "print(output)"
   ]
  },
  {
   "cell_type": "code",
   "execution_count": 7,
   "id": "6d4318fb",
   "metadata": {},
   "outputs": [
    {
     "name": "stdout",
     "output_type": "stream",
     "text": [
      "[['a', 'c'], ['d', 'e']]\n"
     ]
    }
   ],
   "source": [
    "#Question-7\n",
    "def intersection(data1, data2): \n",
    "    return [item for item in data1 if item in data2] \n",
    "data1 = [['a', 'c'], ['d', 'e']] \n",
    "data2 = [['a', 'c'], ['e', 'f'], ['d', 'e']] \n",
    "print(intersection(data1, data2))"
   ]
  },
  {
   "cell_type": "code",
   "execution_count": 11,
   "id": "31da5fae",
   "metadata": {},
   "outputs": [
    {
     "name": "stdout",
     "output_type": "stream",
     "text": [
      "output ['1997']\n",
      "output ['1997', '2011']\n",
      "output ['1997', '2011', '1993']\n",
      "output ['1997', '2011', '1993', '2020']\n"
     ]
    }
   ],
   "source": [
    "#Question-10\n",
    "date=['17-12-1997','22-04-2011','01-05-1993','19-06-2020']\n",
    "out=[]\n",
    "for r in date:\n",
    "    d=r.split(\"-\")\n",
    "    out.append(d[2])\n",
    "    print(\"output\",out)"
   ]
  },
  {
   "cell_type": "code",
   "execution_count": 12,
   "id": "f6abffff",
   "metadata": {},
   "outputs": [
    {
     "name": "stdout",
     "output_type": "stream",
     "text": [
      "Sour Fruits: ['Lemon', 'Grapes', 'Kiwi', 'Orange', 'Limes']\n"
     ]
    }
   ],
   "source": [
    "#Question-3\n",
    "fruits = (('Lemon','sour'),('DragonFruit', 'Sweet'),('Grapes','soUr'),('Kiwi','Sour'),('Apples', 'sweet'),('Orange', 'sour'),('Blueberries','sweet'),('Limes','Sour'))\n",
    "\n",
    "sourFruits=[]\n",
    "\n",
    "for j in fruits:\n",
    "    if(j[1].lower()=='sour'):\n",
    "        sourFruits.append(j[0])\n",
    " \n",
    "print(\"Sour Fruits:\", sourFruits)"
   ]
  },
  {
   "cell_type": "code",
   "execution_count": null,
   "id": "715fb9c0",
   "metadata": {},
   "outputs": [],
   "source": []
  }
 ],
 "metadata": {
  "kernelspec": {
   "display_name": "Python 3 (ipykernel)",
   "language": "python",
   "name": "python3"
  },
  "language_info": {
   "codemirror_mode": {
    "name": "ipython",
    "version": 3
   },
   "file_extension": ".py",
   "mimetype": "text/x-python",
   "name": "python",
   "nbconvert_exporter": "python",
   "pygments_lexer": "ipython3",
   "version": "3.9.7"
  }
 },
 "nbformat": 4,
 "nbformat_minor": 5
}
